{
 "cells": [
  {
   "cell_type": "code",
   "execution_count": 1,
   "id": "c258e78e",
   "metadata": {},
   "outputs": [],
   "source": [
    "import numpy as np\n",
    "import matplotlib.pyplot as plt\n",
    "from scipy.integrate import quad"
   ]
  },
  {
   "cell_type": "code",
   "execution_count": 2,
   "id": "79503b1a",
   "metadata": {},
   "outputs": [],
   "source": [
    " slantDepth = 5.89 #km w.e.\n",
    "I1 = 8.60e-6 #  0.53e-6 /sec/cm^2/sr\n",
    "I2 = 0.44e-6 #  0.06e-6 /sec/cm^2/sr\n",
    "lam1 = 0.45 #  0.01 km.w.e.\n",
    "lam2 = 0.87 #  0.02 km.w.e.\n",
    "\n",
    "#Muon Angular distribution intensity\n",
    "meiHime = lambda thetaRad : (I1*np.exp(-slantDepth/(lam1*np.cos(thetaRad)))+I2*np.exp(-slantDepth/(lam2*np.cos(thetaRad))))*np.sin(thetaRad)"
   ]
  },
  {
   "cell_type": "code",
   "execution_count": 3,
   "id": "2c78f0ff",
   "metadata": {},
   "outputs": [],
   "source": [
    "normConst = quad(meiHime, 0, np.pi/2)[0]"
   ]
  },
  {
   "cell_type": "code",
   "execution_count": 4,
   "id": "09e39a6e",
   "metadata": {},
   "outputs": [],
   "source": [
    "meiHimeNormed = lambda thetaRad : meiHime(thetaRad)/normConst"
   ]
  },
  {
   "cell_type": "code",
   "execution_count": 5,
   "id": "4dd6d578",
   "metadata": {},
   "outputs": [
    {
     "data": {
      "text/plain": [
       "0.8560152986830337"
      ]
     },
     "execution_count": 5,
     "metadata": {},
     "output_type": "execute_result"
    }
   ],
   "source": [
    "quad(meiHimeNormed, 0, 0.62)[0]"
   ]
  },
  {
   "cell_type": "code",
   "execution_count": 6,
   "id": "95310593",
   "metadata": {},
   "outputs": [
    {
     "data": {
      "text/plain": [
       "<matplotlib.collections.LineCollection at 0x7faf74310d10>"
      ]
     },
     "execution_count": 6,
     "metadata": {},
     "output_type": "execute_result"
    },
    {
     "data": {
      "image/png": "[encoded data removed]",
      "text/plain": [
       "<Figure size 432x288 with 1 Axes>"
      ]
     },
     "metadata": {
      "needs_background": "light"
     },
     "output_type": "display_data"
    }
   ],
   "source": [
    "angles = np.linspace(0, np.pi/2, 200)\n",
    "plt.plot(angles, meiHimeNormed(angles))\n",
    "plt.vlines(0.62, ymin = 0, ymax = 2)"
   ]
  },
  {
   "cell_type": "code",
   "execution_count": 7,
   "id": "26eb6f50",
   "metadata": {},
   "outputs": [
    {
     "data": {
      "text/plain": [
       "12.525790159267238"
      ]
     },
     "execution_count": 7,
     "metadata": {},
     "output_type": "execute_result"
    }
   ],
   "source": [
    "np.tan(0.62)*(2.5 + 6.4) + 6.172"
   ]
  },
  {
   "cell_type": "markdown",
   "id": "17527b48",
   "metadata": {},
   "source": [
    "# Neglecting 15% of muons...\n",
    "\n",
    "We can take the radius of the generation disk to be 12.5 m if we have a 2.5 m separation from the disk and are willing to lose the top 15% of zenith angles. This is for FLUKA to give us more events."
   ]
  },
  {
   "cell_type": "code",
   "execution_count": 23,
   "id": "3612f728",
   "metadata": {},
   "outputs": [],
   "source": [
    "test = meiHimeNormed(angles)"
   ]
  },
  {
   "cell_type": "code",
   "execution_count": 24,
   "id": "e3370603",
   "metadata": {},
   "outputs": [],
   "source": [
    "test = test/np.sum(test)"
   ]
  },
  {
   "cell_type": "code",
   "execution_count": 25,
   "id": "05ce7dad",
   "metadata": {},
   "outputs": [
    {
     "data": {
      "text/plain": [
       "0.4020207881492435"
      ]
     },
     "execution_count": 25,
     "metadata": {},
     "output_type": "execute_result"
    }
   ],
   "source": [
    "np.sum(test*angles)"
   ]
  },
  {
   "cell_type": "code",
   "execution_count": null,
   "id": "3e425f6a",
   "metadata": {},
   "outputs": [],
   "source": []
  }
 ],
 "metadata": {
  "kernelspec": {
   "display_name": "Python 3",
   "language": "python",
   "name": "python3"
  },
  "language_info": {
   "codemirror_mode": {
    "name": "ipython",
    "version": 3
   },
   "file_extension": ".py",
   "mimetype": "text/x-python",
   "name": "python",
   "nbconvert_exporter": "python",
   "pygments_lexer": "ipython3",
   "version": "3.7.7"
  }
 },
 "nbformat": 4,
 "nbformat_minor": 5
}
