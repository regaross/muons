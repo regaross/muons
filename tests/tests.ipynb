{
 "cells": [
  {
   "cell_type": "code",
   "execution_count": 13,
   "id": "5e6893da-6cb7-41f2-846f-af8dbcffe142",
   "metadata": {},
   "outputs": [],
   "source": [
    "import muon_functions as mf\n",
    "import numpy as np\n",
    "import matplotlib.pyplot as plt"
   ]
  },
  {
   "cell_type": "code",
   "execution_count": 15,
   "id": "7334ab2a-9994-408b-b57b-03a203c05a60",
   "metadata": {},
   "outputs": [],
   "source": [
    "muons = mf.generate_muons(50000)"
   ]
  },
  {
   "cell_type": "code",
   "execution_count": null,
   "id": "18c0b880-0036-4ad3-9736-0c43d027aefe",
   "metadata": {},
   "outputs": [],
   "source": []
  }
 ],
 "metadata": {
  "kernelspec": {
   "display_name": "Python 3",
   "language": "python",
   "name": "python3"
  },
  "language_info": {
   "codemirror_mode": {
    "name": "ipython",
    "version": 3
   },
   "file_extension": ".py",
   "mimetype": "text/x-python",
   "name": "python",
   "nbconvert_exporter": "python",
   "pygments_lexer": "ipython3",
   "version": "3.7.7"
  }
 },
 "nbformat": 4,
 "nbformat_minor": 5
}
